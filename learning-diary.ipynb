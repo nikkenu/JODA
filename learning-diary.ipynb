{
 "cells": [
  {
   "cell_type": "markdown",
   "metadata": {},
   "source": [
    "## Johdanto datatieteeseen 2022"
   ]
  },
  {
   "cell_type": "code",
   "execution_count": 13,
   "metadata": {},
   "outputs": [
    {
     "ename": "ModuleNotFoundError",
     "evalue": "No module named 'pandas'",
     "output_type": "error",
     "traceback": [
      "\u001b[1;31m---------------------------------------------------------------------------\u001b[0m",
      "\u001b[1;31mModuleNotFoundError\u001b[0m                       Traceback (most recent call last)",
      "\u001b[1;32mc:\\Users\\nikla\\Desktop\\JODA\\learning-diary.ipynb Cell 2'\u001b[0m in \u001b[0;36m<module>\u001b[1;34m\u001b[0m\n\u001b[1;32m----> <a href='vscode-notebook-cell:/c%3A/Users/nikla/Desktop/JODA/learning-diary.ipynb#ch0000004?line=0'>1</a>\u001b[0m \u001b[39mimport\u001b[39;00m \u001b[39mpandas\u001b[39;00m \u001b[39mas\u001b[39;00m \u001b[39mpd\u001b[39;00m\n\u001b[0;32m      <a href='vscode-notebook-cell:/c%3A/Users/nikla/Desktop/JODA/learning-diary.ipynb#ch0000004?line=1'>2</a>\u001b[0m \u001b[39mimport\u001b[39;00m \u001b[39mnumpy\u001b[39;00m \u001b[39mas\u001b[39;00m \u001b[39mnp\u001b[39;00m\n",
      "\u001b[1;31mModuleNotFoundError\u001b[0m: No module named 'pandas'"
     ]
    }
   ],
   "source": [
    "import pandas as pd\n",
    "import numpy as np"
   ]
  },
  {
   "cell_type": "markdown",
   "metadata": {},
   "source": [
    "### Luento 1\n",
    "\n",
    "En osallistunut 9.3. järjestettyyn luentoon, koska olen Itävallassa suorittamassa vaihto-opintoani. Katsoin luennon Panoptosta jälkikäteen. Oppimispäiväkirjan toteutan Jupyter Notebookilla.\n",
    "\n",
    "Ensimmäisellä luennolla tutustuttiin pintapuolisesti datatieteeseen. Sen lisäksi tarkasteltiin muun muassa CRISP-DM prosessimallia, joka kuvaa yleisiä lähestymistapoja tiedonlouhintaan. Datatiede rakentuu neljästä kokonaisuudesta: liiketoiminta, tilastotiede, ohjelmointi ja viestintä. Datatiede onkin melko laaja käsite, joka vaatii osaamista monelta eri osaamisalueelta. Datatieteen tarkoitus on kerätä, siivota ja rakentaa malleja datan perusteella. Data muuttuu analysoinnin jälkeen informaatioksi. Informaatiota puolestaan pystytään hyödyntämään nykypäivänä lähes kaikkialla, kuten organisaation kilpailukyvyn parantamisessa.\n",
    "\n",
    "**Oivallukset**\n",
    "\n",
    "1. CRISP-DM -malli oli itselle uutta asiaa. Se auttoi ymmärtämään, kuinka koko datan prosessointi tapahtuu. \n",
    "2. Opin myös, että datatieteeseen löytyy paljon erinäköisiä kirjastoja, kuten Pandas, Scikit-learn. Sen lisäksi Pythonilla pystyy tekemään melko monia mutkaisiakin temppuja datalle vain muutamilla rivillä koodia.\n",
    "3. Oivalsin mitä datatieteellä tarkoitetaan ja mitä se pitää sisällään. Eli kyseessä on todella monitahtoinen tieteenala.\n",
    "4. Lisäksi opin, että datan keräämiseen tarvitaan lupa, eikä sitä voi tehdä mielivaltaisesti edes julkisille sivuille.\n",
    "5. Viimeisenä oivalluksena koen, että ala kiinnostaa itseä paljon. Lisäksi uskon, että kurssi tuo mukanaan uusia näkemyksiä aiheesta paljon.\n",
    "\n",
    "**Kehitysideat**\n",
    "\n",
    "Olisin toivonut, että luennolla oltaisiin voitu esitellä esimerkiksi jokin käyttötapaus tai vastaava. \n",
    "\n",
    "**Koodidemo**\n"
   ]
  }
 ],
 "metadata": {
  "interpreter": {
   "hash": "3a7c471345255d9b1723032e4ebc4391fd68c2296357799991468d18458d77a4"
  },
  "kernelspec": {
   "display_name": "Python 3.10.2 ('ai')",
   "language": "python",
   "name": "python3"
  },
  "language_info": {
   "codemirror_mode": {
    "name": "ipython",
    "version": 3
   },
   "file_extension": ".py",
   "mimetype": "text/x-python",
   "name": "python",
   "nbconvert_exporter": "python",
   "pygments_lexer": "ipython3",
   "version": "3.10.2"
  },
  "orig_nbformat": 4
 },
 "nbformat": 4,
 "nbformat_minor": 2
}
