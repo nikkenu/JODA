{
 "cells": [
  {
   "cell_type": "markdown",
   "metadata": {},
   "source": [
    "## Johdanto datatieteeseen 2022"
   ]
  },
  {
   "cell_type": "code",
   "execution_count": 30,
   "metadata": {},
   "outputs": [
    {
     "name": "stderr",
     "output_type": "stream",
     "text": [
      "[nltk_data] Downloading package stopwords to\n",
      "[nltk_data]     C:\\Users\\naik\\AppData\\Roaming\\nltk_data...\n",
      "[nltk_data]   Package stopwords is already up-to-date!\n"
     ]
    }
   ],
   "source": [
    "import pandas as pd\n",
    "import numpy as np\n",
    "import matplotlib.pyplot as plt\n",
    "from bs4 import BeautifulSoup\n",
    "import requests\n",
    "from sklearn import linear_model\n",
    "from sklearn.model_selection import train_test_split\n",
    "import re\n",
    "import nltk\n",
    "from nltk.corpus import stopwords\n",
    "nltk.download('stopwords')\n",
    "from sklearn.cluster import KMeans\n",
    "from sklearn.datasets import make_blobs, load_iris"
   ]
  },
  {
   "cell_type": "markdown",
   "metadata": {},
   "source": [
    "### Luento 1\n",
    "\n",
    "En osallistunut 9.3. järjestettyyn luentoon, koska olen Itävallassa suorittamassa vaihto-opintoani. Katsoin luennon Panoptosta jälkikäteen. Oppimispäiväkirjan toteutan Jupyter Notebookilla.\n",
    "\n",
    "Ensimmäisellä luennolla tutustuttiin pintapuolisesti datatieteeseen. Sen lisäksi tarkasteltiin muun muassa CRISP-DM prosessimallia, joka kuvaa yleisiä lähestymistapoja tiedonlouhintaan. Datatiede rakentuu neljästä kokonaisuudesta: liiketoiminta, tilastotiede, ohjelmointi ja viestintä. Datatiede onkin melko laaja käsite, joka vaatii osaamista monelta eri osaamisalueelta. Datatieteen tarkoitus on kerätä, siivota ja rakentaa malleja datan perusteella. Data muuttuu analysoinnin jälkeen informaatioksi. Informaatiota puolestaan pystytään hyödyntämään nykypäivänä lähes kaikkialla, kuten organisaation kilpailukyvyn parantamisessa.\n",
    "\n",
    "**Oivallukset**\n",
    "\n",
    "1. CRISP-DM -malli oli itselle uutta asiaa. Se auttoi ymmärtämään, kuinka koko datan prosessointi tapahtuu. \n",
    "2. Opin myös, että datatieteeseen löytyy paljon erinäköisiä kirjastoja, kuten Pandas, Scikit-learn. Sen lisäksi Pythonilla pystyy tekemään melko monia mutkaisiakin temppuja datalle vain muutamilla rivillä koodia.\n",
    "3. Oivalsin mitä datatieteellä tarkoitetaan ja mitä se pitää sisällään. Eli kyseessä on todella monitahtoinen tieteenala.\n",
    "4. Lisäksi opin, että datan keräämiseen tarvitaan lupa, eikä sitä voi tehdä mielivaltaisesti edes julkisille sivuille.\n",
    "5. Viimeisenä oivalluksena koen, että ala kiinnostaa itseä paljon. Lisäksi uskon, että kurssi tuo mukanaan uusia näkemyksiä aiheesta paljon.\n",
    "\n",
    "**Kehitysideat**\n",
    "\n",
    "Olisin toivonut, että luennolla oltaisiin voitu esitellä esimerkiksi jokin käyttötapaus tai vastaava. \n",
    "\n",
    "**Koodidemo**\n"
   ]
  },
  {
   "cell_type": "code",
   "execution_count": 31,
   "metadata": {},
   "outputs": [
    {
     "name": "stdout",
     "output_type": "stream",
     "text": [
      "   sepal_length  sepal_width  petal_length  petal_width species\n",
      "0           5.1          3.5           1.4          0.2  setosa\n",
      "1           4.9          3.0           1.4          0.2  setosa\n",
      "2           4.7          3.2           1.3          0.2  setosa\n",
      "3           4.6          3.1           1.5          0.2  setosa\n",
      "4           5.0          3.6           1.4          0.2  setosa\n"
     ]
    },
    {
     "data": {
      "text/plain": [
       "<matplotlib.collections.PathCollection at 0x23ee0c50220>"
      ]
     },
     "execution_count": 31,
     "metadata": {},
     "output_type": "execute_result"
    },
    {
     "data": {
      "image/png": "[encoded data removed]",
      "text/plain": [
       "<Figure size 432x288 with 1 Axes>"
      ]
     },
     "metadata": {
      "needs_background": "light"
     },
     "output_type": "display_data"
    }
   ],
   "source": [
    "iris = pd.read_csv('https://raw.githubusercontent.com/mwaskom/seaborn-data/master/iris.csv')\n",
    "print(iris.head())\n",
    "\n",
    "plt.scatter(x=iris[\"sepal_width\"], y=iris[\"sepal_length\"])"
   ]
  },
  {
   "cell_type": "markdown",
   "metadata": {},
   "source": [
    "### Luento 2\n",
    "\n",
    "En osallistunut luentoon 16.3.2022, koska olen eri paikkakunnalla. Katsoin luennon jälkikäteen Panoptosta. \n",
    "\n",
    "Toiselle luennolla käsiteltiin datatiedeprosessin eri vaiheita. Lisäksi tutustuttiin ryömijöihin, raapijoihin, datan keräämiseen ja jalostamiseen. Myös käytiin läpi, miten data-analytiikalla voidaan parantaa organisaatioiden suorituskykyä. Data-analytiikka voidaan jakaa neljään eri teemaan:\n",
    "\n",
    "* Kuvaileva analytiikka: What happened?\n",
    "* Diagnosoiva analytiikka: Why did it happen?\n",
    "* Ennakoiva analytiikka: What is likely to happen?\n",
    "* Ohjaava analytiikka: What should be done about it?\n",
    "\n",
    "Ryömijät ovat robotteja, jotka käyvät verkkosivuja systemaattisesti läpi. Ryömiän löytäessä uusi verkko-osoite, lisää se osoitteen jonoon läpikäytäväksi. Raapija puolestaan tutkii itse verkkosivua. Se pystyy tunnistamaan erinäisiä HTML tageja, jos se vain ohjelmoidaan niin. Ryömijöitä ja raapijoita voidaan käyttää erikseen kuin myös yhdessä.  \n",
    "\n",
    "Philip Guo on laatinut tyypillisen datatiedeprosessin työkaavion, joka näkyy alla olevassa kuvassa. Se koostuu neljästä eri päävaiheesta: tiedon esikäsittely, vuoropuhelu analyysin ja tulosten reflektion välillä ja tulosten vieminen. \n",
    "\n",
    "![Data Science Workflow](https://cacm.acm.org/system/assets/0001/3678/rp-overview.jpg)\n",
    "\n",
    "Tiedon esikäsitteleminen on prosessin työläinen vaihe, joka on yleensä noin 80% koko prosessista. Koko vaihe siis alkaa datan keruulla, mitä voidaan tehdä esimerkiksi ryömiöiden ja raapioiden avulla. Myös dataa voidaan ladata julkisista lähteistä tai syöttää manuaalisesti itse Exceliin. Kuitenkin datan keruulle on useita eri tapoja. Datan keruu ei kumminkaan ole helppoa vaan ongelmatilanteita synnyttävät muun muassa datan ajankohtaisuus ja lähteen selvittäminen. \n",
    "\n",
    "Analyysivaiheessa kirjoitetaan, suoritetaan ja ohjelmoidaan ohjelmia hyödyntämään dataa. Ylläolevassa kuvassa analyysivaihe toimii iteratiivisesti eli jokaisella kerralla pyritään parempaan: muokataan skriptiä, suoritetaan skripti, tutkitaan tulosta ja debugataan tarvittaessa. Tämä tarvittaessa toistuu useita kertoja, kunnes ollaan data saatu haluttuun muotoon.\n",
    "\n",
    "Reflektiovaiheessa tukitaan analyysin tulosta. Tässä vaiheessa voidaan tarvittaessa ottaa muistiinpanoja, pitää palavereja ja vertailla ja tutkia muita vaihtoehtoja. Jos todetaan, että toinen vaihtoehto olisi parempi, aloitetaan analyysi vaihe uudestaan. Jos taas todetaan, että analyysin tulos on haluttu, voidaan siirtyä viimeiseen vaiheeseen.\n",
    "\n",
    "Viimeisessä vaiheessa eli tulosten viemisessä, voidaan julkistaa tulokset, kirjoittaa raportti, jakaa tutkimus tai tallentaa vaikka organisaation omaan käyttöön. Tässä vaiheessa siis analyysin tulos on valmis ja sitä voidaan käyttää mihin vain.\n",
    "\n",
    "**Oivallukset**\n",
    "\n",
    "1. Useat organisaatiot eivät nykypäivänä käytä data-analytiikkaa hyödykseen liiketoiminnassa.\n",
    "2. Tiedon esikäsitteleminen on vie eniten aikaa (datan keruu, jalostaminen ja siivous).\n",
    "3. Ryömiöiden ja raapioiden käyttäminen ei ole hirvittävän hankalaa ja siihen löytyy paljon erinäköisiä kirjastoja tueksi.\n",
    "4. Datan siivoaminen on yksi tärkeimmistä vaiheista, koska muutoin tuloksena saattaa olla virheellinen analyysi.\n",
    "5. Pandas toimii loistavasti datan jalostamiseen.\n",
    "\n",
    "**Kehitysideat**\n",
    "\n",
    "Luento materiaalissa käytiin lähinnä läpi CSV -tiedostojen lukemista ja niiden analysointia, mutta esimerkiksi ryömiöiden ja raapioiden esimerkit uupuivat.\n",
    "\n",
    "**Koodidemo**\n",
    "\n",
    "Koodidemossa haettiin julkiselta verkkosivulta taulukko, josta löytyy kuvitteellisia henkilöitä. Henkilöistä on saatavissa esimerkiksi heidän ikä ja palkka. Seuraavaksi parsin datan ja tein siitä yksinkertaisin pylväsdiagrammin, josta nähdään, että noin 47 vuotiaana tienataan eniten. Kuitenkaan mitään palkan kehitystä ei ollut oikeastaan nähtävissä. "
   ]
  },
  {
   "cell_type": "code",
   "execution_count": 32,
   "metadata": {},
   "outputs": [
    {
     "data": {
      "image/png": "[encoded data removed]",
      "text/plain": [
       "<Figure size 432x288 with 1 Axes>"
      ]
     },
     "metadata": {
      "needs_background": "light"
     },
     "output_type": "display_data"
    }
   ],
   "source": [
    "req = requests.get('https://datatables.net/examples/basic_init/zero_configuration.html')\n",
    "soup = BeautifulSoup(req.text, \"html.parser\")\n",
    "\n",
    "table = soup.find('table', {'id': 'example'})\n",
    "table_body = table.find('tbody')\n",
    "rows = table_body.find_all('tr')\n",
    "\n",
    "def cleanCurrencyText(text):\n",
    "    stripDollarSign = text.strip('$')\n",
    "    stripComma = stripDollarSign.replace(',', '')\n",
    "    return stripComma\n",
    "\n",
    "data = []\n",
    "for row in rows:\n",
    "    row_content = row.find_all('td')\n",
    "\n",
    "    # Age, Salary\n",
    "    data.append([int(row_content[3].text), int(cleanCurrencyText(row_content[5].text))])\n",
    "\n",
    "df = pd.DataFrame(data, columns=['Age', 'Salary'])\n",
    "df.sort_values(by=['Age'], inplace=True)\n",
    "\n",
    "plt.bar(df[\"Age\"], df[\"Salary\"])\n",
    "plt.show()"
   ]
  },
  {
   "cell_type": "markdown",
   "metadata": {},
   "source": [
    "### Luento 3\n",
    "\n",
    "En osallistunut luentoon 23.3.2022, koska olen eri paikkakunnalla. Katsoin luennon jälkikäteen Panoptosta.\n",
    "\n",
    "Kolmannella luennolla käytiin läpi koneoppimisen periaatteita. Se on yksi tekoälyn alaryhmä, missä kone parantaa suorituskykyä oppimalla itsenäisesti datasta. Nykypäivänä koneoppimista käytetään paljon liiketoiminnan kehittämisessä ja analysoinnissa. Esimerkiksi useat yritykset käyttävät verkkosivuillaan Chatbotteja, jotka pystyvät vastamaan asiakkaiden kysymyksiin ympäri vuorokauden. Tekoäly ei itsenään lisäarvoa yritykseen, vaan se vaatii oikean käyttökohteen ja liiketoimintamallin. \n",
    "\n",
    "Koneoppimisalgoritmit voidaan jakaa kolmeen eri osaan opetusdatan luoteen perusteella.\n",
    "\n",
    "* Ohjattu oppiminen (Supervised learning): Jokaisella ominaisuudella tai itsenäisellä muuttujalla on vastaava kohdetieto, jota käytetään mallin kouluttamiseen.\n",
    "* Vahvitusoppiminen (Reinforcement learning): Malli oppii jokaisesta tehdystä toiminnasta, mitä sitten palkitaan oikeaista päätöksistä ja rankaistaa virheistä.\n",
    "* Ohjaamaton oppiminen (Unsupervised learning): Tietojoukkoa ei merkitä. Käytetään klusterointiatekniikkaa tietojen ryhmittämiseen samankaltaisuuden perusteella.\n",
    "\n",
    "Laskennallinen analytiikka perustuu piirteisiin. Ne voivat olla binäärisiä, kategoria tai jatkuvia. Toisin sanoen sen avulla dataa luokitellaan. Esimerkiksi lääkärin diagnoosissa piirteet ovat oireet, eli muuttujat, jotka luokittelevat potilaan terveydellisen tilan.\n",
    "\n",
    "Piirteiden suunnittelu (feature engineering) on erittäin tärkeä osa koneoppimista. Se lisää ymmärrystä, mitä tietyllä datalla kuvataan. Sen avulla malli pystyy keskittymään paremmin datan analysointiin. Heikko piirteiden suunnittelu johtaa heikkoihin malliin. \n",
    "\n",
    "**Oivallukset**\n",
    "\n",
    "1. Koneoppimisessa testaus on tärkeässä osassa.\n",
    "2. Kaikkea dataa ei tule käyttää opettamiseen, vaan sitä tulee jättää myös testausvaiheeseen.\n",
    "3. Vahvistettuoppiminen vaikuttaa erittäin hyvältä vaihdoehdolta esimerkiksi erilaisten kuvien tunnistamiseen.\n",
    "4. Data saattaa sisältää kohinaa, joka vaikuttaa piirteiden löytämiseen.\n",
    "5. Dataa tulee olla tarpeaksi paljon.\n",
    "\n",
    "**Kehitysideat**\n",
    "\n",
    "Olisi mielenkiintoista nähdä luennolla esimerkki sähköauton tekoälyn toiminnasta.\n",
    "\n",
    "**Koodidemo**\n",
    "\n",
    "Koodidemossa käytetään 'Boston house prices' datasettiä. Testidataksi splitataan 30% datasta. Jonka jälkeen trainin datalla opetetaan malli käyttäen lineaarista regressiota. Tulokseksi saatiin 78%, joka on hyvä, koska 100% on täydellinen."
   ]
  },
  {
   "cell_type": "code",
   "execution_count": 33,
   "metadata": {},
   "outputs": [
    {
     "name": "stdout",
     "output_type": "stream",
     "text": [
      "Coefficients:  [-9.85424717e-02  6.07841138e-02  5.91715401e-02  2.43955988e+00\n",
      " -2.14699650e+01  2.79581385e+00  3.57459778e-03 -1.51627218e+00\n",
      "  3.07541745e-01 -1.12800166e-02 -1.00546640e+00  6.45018446e-03\n",
      " -5.68834539e-01]\n",
      "Variance score: 0.7836295385076281\n"
     ]
    },
    {
     "data": {
      "image/png": "[encoded data removed]",
      "text/plain": [
       "<Figure size 432x288 with 1 Axes>"
      ]
     },
     "metadata": {
      "needs_background": "light"
     },
     "output_type": "display_data"
    }
   ],
   "source": [
    "data_url = \"http://lib.stat.cmu.edu/datasets/boston\"\n",
    "raw_df = pd.read_csv(data_url, sep=\"\\s+\", skiprows=22, header=None)\n",
    "data = np.hstack([raw_df.values[::2, :], raw_df.values[1::2, :2]])\n",
    "target = raw_df.values[1::2, 2]\n",
    "\n",
    "X = data\n",
    "y = target\n",
    "\n",
    "X_train, X_test, y_train, y_test = train_test_split(X, y, test_size=0.3, random_state=1)\n",
    "\n",
    "regression = linear_model.LinearRegression()\n",
    "regression.fit(X_train, y_train)\n",
    "\n",
    "print(\"Coefficients: \", regression.coef_)\n",
    "\n",
    "print(\"Variance score: {}\".format(regression.score(X_test, y_test)))\n",
    "\n",
    "plt.scatter(regression.predict(X_train), regression.predict(X_train) - y_train,\n",
    "            color = \"green\", s = 10, label = 'Train data')\n",
    "plt.scatter(regression.predict(X_test), regression.predict(X_test) - y_test,\n",
    "            color = \"blue\", s = 10, label = 'Test data')\n",
    "plt.hlines(y = 0, xmin = 0, xmax = 50, linewidth = 2)\n",
    "plt.legend(loc = 'upper right')\n",
    "plt.show()\n"
   ]
  },
  {
   "cell_type": "markdown",
   "metadata": {},
   "source": [
    "### Luento 4\n",
    "\n",
    "En osallistunut luentoon 30.3.2022, koska olen eri paikkakunnalla. Katsoin luennon jälkikäteen Panoptosta.\n",
    "\n",
    "Luennon aiheena käsiteltiin harjoitustyön tekemistä, mitä ennen tuli lukea harjoitustyöohje ennakomateriaalina. Aloinkin heti pohtia, mistä aiheesta itse haluaisin tehdä harjoitustyön. Googlailin hieman mahdollisia aiheita, josta sainkin kolme hyvää vaihtoehtoa: DL Chatbot, ML Image Recognition ja ML Fake News Detection. Päädyin ainakin alustavasti valitsemaan viimeisen eli Fake News Detectionin, joka on mielestäni erittäin relevantti tänäpäivänä (30.3.2022).\n",
    "\n",
    "Harjoitustyötä lähdin toteuttamaan luennolla esitetyn Jeff Pattonin kehittämän mahdollisuuskehikon avulla. Se on kehitetty liiketoiminta- ja Lean-kehikkojen pohjalta, mikä luo keskustelu mahdollisesti ratkaisusta. \n",
    "\n",
    "1. Ongelma: Useat mediat syöttävät kansalle valheellista artikkeleita. Fake news - Donald Trump\n",
    "2. Kuka käyttää ratkaisua? Ihmiset, jotka lukevat uutisia.\n",
    "3. Kuvaa miten ongelma on ratkaistu tänään: Tänäpäivänä on olemassa paljon erinäköisiä sovelluksia, jotka tarkistavat artikkelin luotettavuuden. Tosin en ole varma, onko tämmöistä esimerkiksi suomenkielelle.\n",
    "4. Liiketoimintaongelma: Valheellinen informaatio voi luoda liiketoiminnassa paljonkin erinäköisiä tilanteita, kuten pörssiromahduksen. \n",
    "5. Miten käyttäjät käyttävät ratkaisua? Syöttämällä tekstin palveluun, joka pystyy analysoimaan sen luotettavuuden.\n",
    "6. Miten voit mitata ratkaisusta saatua hyötyä? Varmistamalla myöhemmin artikkelin oikeanmukaisuuden.\n",
    "7. Teknologian hyväksyntä: Ei vaadi suurempia toimintoja, jos käyttöliittymästä tehtäisiin käyttäjälle intuitiivinen ja helppo.\n",
    "8. Miten voisit mitata ratkaisun vaikutusta yrityksesi liiketoimintaan? Kyse on mediasta, joka vaikuttaa miljooniin ihmisiin, joten mittaaminen on erittäin hankalaa.\n",
    "9. Budjetti: 0 euroa, jos ajallista arvoa ei lasketa :)\n",
    "\n",
    "**Oivallukset**\n",
    "\n",
    "1. Aiheen valitseminen on hankalaa, koska tässä vaiheessa vaikea ymmärtää projektien laajuutta.\n",
    "2. Mahdollisuuskehikko hieman avasi keskustelua ongelmalle.\n",
    "3. Työ saattaa olla erittäin työläs, mutta opettavainen.\n",
    "4. Aion käyttää ainakin Google Cloud Platformia ja jotakin NLP kirjastoa.\n",
    "5. Harjoitustyö vaikuttaa mielenkiintoiselta ja ainakin tällä hetkellä motivaatiota löytyy.\n",
    "\n",
    "**Kehitysidea**\n",
    "\n",
    "Harjoitustyöohje voitaisiin esitellä jo ensimmäisellä luennolla, jotta aihetta pääsee jo pohtimaan.\n",
    "\n",
    "**Koodidemo**\n",
    "\n",
    "Pieni demo NLP tekstin prosessoinnista. Täältä katsoin [ohjeita](https://www.analyticsvidhya.com/blog/2021/08/a-friendly-guide-to-nlp-text-pre-processing-with-python-example/)."
   ]
  },
  {
   "cell_type": "code",
   "execution_count": 34,
   "metadata": {},
   "outputs": [
    {
     "data": {
      "text/html": [
       "<div>\n",
       "<style scoped>\n",
       "    .dataframe tbody tr th:only-of-type {\n",
       "        vertical-align: middle;\n",
       "    }\n",
       "\n",
       "    .dataframe tbody tr th {\n",
       "        vertical-align: top;\n",
       "    }\n",
       "\n",
       "    .dataframe thead th {\n",
       "        text-align: right;\n",
       "    }\n",
       "</style>\n",
       "<table border=\"1\" class=\"dataframe\">\n",
       "  <thead>\n",
       "    <tr style=\"text-align: right;\">\n",
       "      <th></th>\n",
       "      <th>Unnamed: 0</th>\n",
       "      <th>tweets</th>\n",
       "      <th>sentiment</th>\n",
       "      <th>clean_tweets</th>\n",
       "    </tr>\n",
       "  </thead>\n",
       "  <tbody>\n",
       "    <tr>\n",
       "      <th>0</th>\n",
       "      <td>0</td>\n",
       "      <td>@elonmusk @realfuckingnews @business Ancient c...</td>\n",
       "      <td>pos</td>\n",
       "      <td>elonmusk realfuckingnews business ancient cryp...</td>\n",
       "    </tr>\n",
       "    <tr>\n",
       "      <th>1</th>\n",
       "      <td>1</td>\n",
       "      <td>@elonmusk @rockstardenied @SpaceX Very kind, a...</td>\n",
       "      <td>pos</td>\n",
       "      <td>elonmusk rockstarenie spacex kin appreciate much</td>\n",
       "    </tr>\n",
       "    <tr>\n",
       "      <th>2</th>\n",
       "      <td>2</td>\n",
       "      <td>@elonmusk What will happen to Dodge?</td>\n",
       "      <td>pos</td>\n",
       "      <td>elonmusk happen doge</td>\n",
       "    </tr>\n",
       "    <tr>\n",
       "      <th>3</th>\n",
       "      <td>3</td>\n",
       "      <td>RT @_0121Dan: Day 8 of tweeting @elonmusk and ...</td>\n",
       "      <td>neg</td>\n",
       "      <td>rt _0121dan day 8 tweeting elonmusk asking buy...</td>\n",
       "    </tr>\n",
       "    <tr>\n",
       "      <th>4</th>\n",
       "      <td>4</td>\n",
       "      <td>@rockstardenied @elonmusk @SpaceX Download the...</td>\n",
       "      <td>pos</td>\n",
       "      <td>rockstarenie elonmusk spacex downloa app “pi” ...</td>\n",
       "    </tr>\n",
       "  </tbody>\n",
       "</table>\n",
       "</div>"
      ],
      "text/plain": [
       "   Unnamed: 0                                             tweets sentiment  \\\n",
       "0           0  @elonmusk @realfuckingnews @business Ancient c...       pos   \n",
       "1           1  @elonmusk @rockstardenied @SpaceX Very kind, a...       pos   \n",
       "2           2               @elonmusk What will happen to Dodge?       pos   \n",
       "3           3  RT @_0121Dan: Day 8 of tweeting @elonmusk and ...       neg   \n",
       "4           4  @rockstardenied @elonmusk @SpaceX Download the...       pos   \n",
       "\n",
       "                                        clean_tweets  \n",
       "0  elonmusk realfuckingnews business ancient cryp...  \n",
       "1   elonmusk rockstarenie spacex kin appreciate much  \n",
       "2                               elonmusk happen doge  \n",
       "3  rt _0121dan day 8 tweeting elonmusk asking buy...  \n",
       "4  rockstarenie elonmusk spacex downloa app “pi” ...  "
      ]
     },
     "execution_count": 34,
     "metadata": {},
     "output_type": "execute_result"
    }
   ],
   "source": [
    "df = pd.read_csv('files/ElonMusk.csv')\n",
    "\n",
    "stop = set(stopwords.words('english'))\n",
    "\n",
    "# Remove links\n",
    "df[\"clean_tweets\"] = df[\"tweets\"].apply(lambda s: ' '.join(re.sub(\"(w+://S+)\", \" \", s).split()))\n",
    "\n",
    "# Remove punctuations\n",
    "df[\"clean_tweets\"] = df[\"clean_tweets\"].apply(lambda s: ' '.join(re.sub(\"[.,!?:;-='...@]\", \" \", s).split()))\n",
    "\n",
    "# Remove numbers\n",
    "df[\"clean_tweets\"].replace('d+', '', regex=True, inplace=True)\n",
    "\n",
    "# Remove stop words\n",
    "def remove_stopwords(input):\n",
    "    words = input.lower().split()\n",
    "    nfw = [word for word in words if word not in stop] \n",
    "    nft = \" \".join(nfw) \n",
    "    return nft\n",
    "\n",
    "df[\"clean_tweets\"] = df[\"clean_tweets\"].apply(lambda s: remove_stopwords(s))\n",
    "\n",
    "df.head()\n"
   ]
  },
  {
   "cell_type": "markdown",
   "metadata": {},
   "source": [
    "### Luento 5\n",
    "\n",
    "En osallistunut luentoon 10.4.2022. Katsoin luennon jälkikäteen Panoptosta.\n",
    "\n",
    "Luennolla oli vierailija Futuriceltä. Aiheena käsiteltiin NLP:tä eli luonnollista kieltä. Se on yksi datatieteen eritysala. NLP on luonteelta rakenteetonta. Siinä tärkeimpiä vaiheita on huolellinen tekstin esikäsittely ja piirteiden erottelu. \n",
    "\n",
    "Esikäsittely on tärkein kaikissa koneoppimisprosesseissa, mutta varsinkin NLP:ssä. Esikäsittely voi yksinkertaisesti olla tekstin siivoamista. Se avulla voidaan parantaa opetusdatan laatua, vähentää kohinaa ja muuntaa opetusdata sellaiseen muotoon, että sitä voidaan käyttää.\n",
    "\n",
    "Otetaan esimerkiksi jokin tweettaus Twitteristä. Se yleensä sisältää hymiöitä, linkkejä, hashtägejä ja mainintoja. Tekstin käsittelyssä nämä kaikki voidaan poistaa, jolloin tekstistä tulee jo heti paljon laadukkaampi. Tämän jälkeen voidaan sanoja muokata yksinkertaisempaan muotoon, esimerkiksi \"loving\" => \"love\". Sen jälkeen voitaisiin vielä poistaa stopwordsit. Nyt teksti on hyvin siistissä muodossa. Koneoppimismallit harvemmin kumminkaan pystyvät vielä vastaan ottaa dataa tälläisenään, joten voidaan muokata jokainen sana vastamaan jotain tiettyä kokonaislukua. Tällöin yksi lause koostuu kasasta kokonaislukuja. Tälläistä dataa jo voidaan syöttää malleille. \n",
    "\n",
    "NLP:ssä on paljon muitakin vaiheita, kuten mallin opettaminen, testaus ja soveltaminen. Unohtamatta kirjastojen asentamista ja datasetin hankkimista. \n",
    "\n",
    "NLP käyttökohteita on chatbotit, automaattiset konekäännökset ja ylipäätään tekstien analysointi.\n",
    "\n",
    "**Oivallukset**\n",
    "\n",
    "1. NLP aiheena on hyvin mielenkiintoinen ja ajankohtainen.\n",
    "2. NPL toimii hyvin englanninkielelle.\n",
    "3. Aion varmasti tehdä harkkatyön aiheesta.\n",
    "4. Tekstin esikäsittelyyn tulee panostaa paljon, koska se voi ratkaista mallin toimivuuden.\n",
    "5. Keras kirjastosta löytyy hyviä ratkaisuja NLP:lle.\n",
    "\n",
    "**Kehitysidea**\n",
    "\n",
    "Ei kehitysideaa.\n",
    "\n",
    "**Koodidemo**\n",
    "\n",
    "Hyvin pieni demo teksti ketjujen tekemisestä. Demossa training_data on jokin lista, joka sisältää kasan tekstipätkiä. Esimerkiksi teksti \"Tampere on hieno kaupunki\" muutetaan ketjuksi kokonaislukuja, voisi näyttää tältä [30, 1, 4, 5]."
   ]
  },
  {
   "cell_type": "code",
   "execution_count": null,
   "metadata": {},
   "outputs": [],
   "source": [
    "from tensorflow.keras.preprocessing.text import Tokenizer\n",
    "\n",
    "tokenizer = Tokenizer()\n",
    "tokenizer.fit_on_texts(training_data)\n",
    "tokenized = tokenizer.texts_to_sequences(training_data)\n",
    "training_data = sequence.pad_sequences(tokenized)"
   ]
  },
  {
   "cell_type": "markdown",
   "metadata": {},
   "source": [
    "### Luento 6\n",
    "\n",
    "En osallistunut luentoon 20.4.2022. Katsoin luennon jälkikäteen Panoptosta.\n",
    "\n",
    "Luennolla käsiteltiin ohjaamatonta oppimista (engl. unsupervised learning). Tämän lisäksi myös käsitellään ryvästämistä (engl. k-means-clustering), aihemallinnusta (engl. topic modeling) ja verkostoanalyysia (engl. marvel social graph).\n",
    "\n",
    "Ohjaamaton oppiminen on yksi koneoppimisen osa-alue. Siinä ei määritellä luokkia vaan tarkoituksena on löytää datasta rakenne. Rakenne voi olla esimerkiksi kasa samankaltaisia ryppäitä, eli clustereita. Toisin sanoen dataa jaetaan luokkiin samankaltaisuuden tai tiettyjen mallien mukaan. Ohjaamaton oppimista pystytään hyödyntämään esimerkiksi tunnistamaan poikkeavuuksia suurissa data määrissä ja tätä kautta tekemään päätöksiä.\n",
    "\n",
    "Alla olevasta kuvasta nähdään ohjaamattoman oppimisen työnkulku. Aluksi käytössä on vain raakadata, jota aiotaan käyttää myöhemmin mallin opettamiseen. Seuraavana kohtana on Feature Extraction eli piirteiden erottelu. Siinä datasta pyritään erottelemaan pirteet niin, että se koneoppimismalli pystyy paremmin ymmärtämään syötetyn datan. Nämä piirteet muodostavat aineiston pohjalta matriisin, joka pystytään syöttämään halutulle mallille. Joidenkin ongelmien tapauksessa tarpeeksi hyvä piirteiden erottelu voi johtaa tilanteeseen, jossa ei edes tarvita koneoppimista. Mallin opettamisen jälkeen arvioidaan mallin toimintaan. Tämän jälkeen voidaan joutua prosessin palaamaan taaksepäin, jos tulokset eivät ole halutun näköiset tai vaihtoehtosesti mallia voi alkaa käyttämään ennustamiseen.\n",
    "\n",
    "![Unsupervised Learning Workflow](https://image.slidesharecdn.com/beginwithmachinelearning-170129104229/95/begin-with-machine-learning-55-638.jpg?cb=1485686565)\n",
    "\n",
    "Aiemmin mainittu termi ryhvästäminen/klusterointi on tapaa, jossa datapisteet tunnistetaan ryppäisiiin niiden yhtäläisyyksien perusteella. Parhaassa skenaariossa ryppäät sijaitsevat pienellä alueella kaukana toisesta ryppäästä. Aiheesta löytyy Youtubesta valtavasti materiaalia, kuten [tämä](https://www.youtube.com/watch?v=_S5tvagaQRU) video. Tässä on esitetty yksinkertaisella tavalla klusteroinnin takana vallitseva matematiikka. Klusterointi alkaa valitsemalla klusterien määrä, eli kuinka monta rypästä halutaan muodostaa. Tämän lisäksi tulee valita klusterien määrän verran satunnaisia datapisteitä (ns keskipiste), josta voidaan aloittaa. Sitten voidaan laskemaan havaintojen etäisyydet jokaiselle valitulle pisteellä. Nyt ensimmäisen iteraation jälkeen ollaan saatu selville, datapisteiden lähimmät keskipisteet, eli mihin ne kuuluvat. Ennen seuraavaa iteraatiota keskipisteet päivitetään syntyneisiin klustereihin perustuen. Tätä toistetaan kunnes keskipisteet eivät enään muutu. Tästä aiheesta ajattelin tehdä koodidemon.\n",
    "\n",
    "Aihemallinnusta käytetään ryhmittelemään tekstiä ja löytämään sieltä piilossa olevia rakenteita tai aiheita. Lähtökohtana on, että materiaalista löytyy erilaisia piirteitä aiheista ja ne esiintyvät enemmän kuin kerran. Aihemallennusta helpottaakseen tekstiä voidaan lemmata, eli tekstin sanoja muokataan perusmuotoon. Toinen käytettävä on stemmaus, jossa sanat katkaistaan kieliopillisten sääntöjen pohjata katkaistuun sanamuotoon. Aihemallennuksessa voi siis hyödyntää luonnollisen kielen analyysia. \n",
    "\n",
    "\n",
    "**Oivallukset**\n",
    "\n",
    "1. Lemmaus vaikuttaa paremmalta kuin stemmaus.\n",
    "2. Klusterointi ei matemaattisesti ole hankalaa.\n",
    "3. Koneoppimisessa datan siivoaminen/jalostaminen on erittäin tärkeää.\n",
    "4. Ohjaamaton oppiminen on haastavampi kuin ohjattu oppiminen.\n",
    "5. Aihemallennus on haastava.\n",
    "\n",
    "**Kehitysidea**\n",
    "\n",
    "Aihemallennusta voisi käydä vielä syvällisemmin läpi.\n",
    "\n",
    "**Koodidemo**\n",
    "\n",
    "Klusterointi demo"
   ]
  },
  {
   "cell_type": "code",
   "execution_count": 35,
   "metadata": {},
   "outputs": [
    {
     "data": {
      "text/plain": [
       "<matplotlib.collections.PathCollection at 0x23edef1d0a0>"
      ]
     },
     "execution_count": 35,
     "metadata": {},
     "output_type": "execute_result"
    },
    {
     "data": {
      "image/png": "[encoded data removed]",
      "text/plain": [
       "<Figure size 432x288 with 1 Axes>"
      ]
     },
     "metadata": {
      "needs_background": "light"
     },
     "output_type": "display_data"
    }
   ],
   "source": [
    "X, y_true = make_blobs(n_samples=300, centers=4, cluster_std=0.60, random_state=0)\n",
    "plt.scatter(X[:, 0], X[:, 1], s=20)"
   ]
  },
  {
   "cell_type": "code",
   "execution_count": 36,
   "metadata": {},
   "outputs": [
    {
     "data": {
      "text/plain": [
       "<matplotlib.collections.PathCollection at 0x23edec9ff70>"
      ]
     },
     "execution_count": 36,
     "metadata": {},
     "output_type": "execute_result"
    },
    {
     "data": {
      "image/png": "[encoded data removed]",
      "text/plain": [
       "<Figure size 432x288 with 1 Axes>"
      ]
     },
     "metadata": {
      "needs_background": "light"
     },
     "output_type": "display_data"
    }
   ],
   "source": [
    "kmeans = KMeans(n_clusters=4)\n",
    "kmeans.fit(X)\n",
    "y_kmeans = kmeans.predict(X)\n",
    "\n",
    "plt.scatter(X[:,0],X[:,1], c=y_kmeans, s=20, cmap='viridis')\n",
    "centers = kmeans.cluster_centers_\n",
    "plt.scatter(centers[:,0], centers[:,1], c='red', s=400, alpha=0.3)"
   ]
  },
  {
   "cell_type": "markdown",
   "metadata": {},
   "source": [
    "### Luento 7\n",
    "\n",
    "En osallistunut luentoon 27.4.2022. Katsoin luennon jälkikäteen Panoptosta.\n",
    "\n",
    "Viimeisessä luennossa käsiteltiin visuaalista analytiikkaa. Luennon oppimistavoitteet olivat ymmärtää, mitä visuaalisella analytiikalla tarkoitetaan, miten sitä voidaan soveltaa datatieteesssä jne. \n",
    "\n",
    "Visuaalinen analytiikan avulla pystytään paremmin analysoimaan dataa ja ymmärtämään sen merkitystä. Tätä kautta pystytään ohjaamaan organisaation toimintaa eri tasoilla, kuten operatiivisella ja strategisella. Visuaalisella analytiikalla voidaan tarjota esimerkiksi asiakkaalle interaktiiviset näkymät, jonka avulla asiakas pystyy tarkastelemaan dataa. Visualisoinnilla on kaksi keskeistä sovellusta datatieteessä: kartoittava ja kommunikointi. Kartoittava analytiikka on lähtödatan tutkivaa kartoittamista, kun taas kommunikointi on tulosten ja sen välivaiheiden välittämistä loppukäyttäjälle.\n",
    "\n",
    "Visuaalisella analytiikalla voidaan johtaa toimintaa data-ohjaustuvasti. Muodostaa yhtenevän dataan perustuvan tilannekuvan. Löytää kohteet ja tilanteet, jotka vaativat huomiota. Tunnistaa liiketoiminnan mahdollisuuksia. Ylipäätään saada data sellaiseen muotoon, että sitä pystytään käyttämään ja hyödyntämään. Visuaalista analytiikan tekemiseksi käytetään paljon seuraavia sovelluksia Tableau, Power BI ja Qlik. Kumminkin jos vaaditaan datan monimutkaisempaa käsittely on hyvä kääntyä Pythonin kirjastojen luokse, jolla voidaan tehdä korkeatasoisempaa analytiikkaa.\n",
    "\n",
    "Visuaalisen analytiikan suunnitellussa on tärkeää ensin määritellä käyttäjäryhmät. Tällä tarkoitetaan sitä, että pohditaan kenelle visualisointi on tarkoitettu, mitä heille tulisi kertoa. Lisäksi pohditaan, mitä haluat, että vastaanottaja ymmärtää tai tekee esitetyn tiedon perusteella. Yhtenä lähtökohtana on myös, että keskitytään olennaiseen, eli jätetään tiedosta kaikki turha pois ja keskitytään nimenomaan siihen tarinan kannalta olennaisiin asioihin. \n",
    "\n",
    "**Oivallukset**\n",
    "\n",
    "1. Visuaalinen analytiikka vaatii myös hieman UI/UX osaamista.\n",
    "2. Yksinkertaisuus on hienoa.\n",
    "3. Pythonin osaaminen on edelletys, jos haluaa tehdä korkeatasoisempaa analytiikkaa.\n",
    "4. Aihe kiinnostaa hyvin paljon.\n",
    "5. Tänä päivänä liiketoiminnassa hyvin oleellinen työkalu.\n",
    "\n",
    "**Kehitysidea**\n",
    "\n",
    "Ei kehitysideaa.\n",
    "\n",
    "**Koodidemo**\n",
    "\n",
    "Löysin mielenkiintoisen kirjaston nimeltä pandas_visual_analysis. Kirjastolle voi antaa suoraan DataFramen, josta se pystyy tekemään interaktiivisen dashboardin. Tässä esimerkissä sille annetaan iris dataset.\n",
    "\n",
    "![Dashboard](../JODA/harjoitustyo/pictures/dashboard.PNG)"
   ]
  },
  {
   "cell_type": "code",
   "execution_count": 37,
   "metadata": {},
   "outputs": [
    {
     "data": {
      "application/vnd.jupyter.widget-view+json": {
       "model_id": "47ba202298214475a3fe5c0fc6f79e13",
       "version_major": 2,
       "version_minor": 0
      },
      "text/plain": [
       "VBox(children=(ToggleButtons(_dom_classes=('layout-ab46d27b917446a9b4253d6ebe4b6b0e',), description='Selection…"
      ]
     },
     "metadata": {},
     "output_type": "display_data"
    }
   ],
   "source": [
    "from pandas_visual_analysis import VisualAnalysis\n",
    "\n",
    "iris = load_iris()\n",
    "df = pd.DataFrame(iris.data, columns= iris.feature_names)\n",
    "\n",
    "VisualAnalysis(df)"
   ]
  }
 ],
 "metadata": {
  "interpreter": {
   "hash": "676ebc858529a16c2cc634403949a603e805e111d6c16ea4bc45e29fd649ee10"
  },
  "kernelspec": {
   "display_name": "Python 3.10.3 64-bit ('JODA': conda)",
   "name": "python3"
  },
  "language_info": {
   "codemirror_mode": {
    "name": "ipython",
    "version": 3
   },
   "file_extension": ".py",
   "mimetype": "text/x-python",
   "name": "python",
   "nbconvert_exporter": "python",
   "pygments_lexer": "ipython3",
   "version": "3.9.12"
  },
  "orig_nbformat": 4
 },
 "nbformat": 4,
 "nbformat_minor": 2
}
