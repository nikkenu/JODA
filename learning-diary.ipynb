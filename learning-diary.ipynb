{
 "cells": [
  {
   "cell_type": "markdown",
   "metadata": {},
   "source": [
    "## Johdanto datatieteeseen 2022"
   ]
  },
  {
   "cell_type": "code",
   "execution_count": 1,
   "metadata": {},
   "outputs": [],
   "source": [
    "import pandas as pd\n",
    "import numpy as np\n",
    "import matplotlib.pyplot as plt"
   ]
  },
  {
   "cell_type": "markdown",
   "metadata": {},
   "source": [
    "### Luento 1\n",
    "\n",
    "En osallistunut 9.3. järjestettyyn luentoon, koska olen Itävallassa suorittamassa vaihto-opintoani. Katsoin luennon Panoptosta jälkikäteen. Oppimispäiväkirjan toteutan Jupyter Notebookilla.\n",
    "\n",
    "Ensimmäisellä luennolla tutustuttiin pintapuolisesti datatieteeseen. Sen lisäksi tarkasteltiin muun muassa CRISP-DM prosessimallia, joka kuvaa yleisiä lähestymistapoja tiedonlouhintaan. Datatiede rakentuu neljästä kokonaisuudesta: liiketoiminta, tilastotiede, ohjelmointi ja viestintä. Datatiede onkin melko laaja käsite, joka vaatii osaamista monelta eri osaamisalueelta. Datatieteen tarkoitus on kerätä, siivota ja rakentaa malleja datan perusteella. Data muuttuu analysoinnin jälkeen informaatioksi. Informaatiota puolestaan pystytään hyödyntämään nykypäivänä lähes kaikkialla, kuten organisaation kilpailukyvyn parantamisessa.\n",
    "\n",
    "**Oivallukset**\n",
    "\n",
    "1. CRISP-DM -malli oli itselle uutta asiaa. Se auttoi ymmärtämään, kuinka koko datan prosessointi tapahtuu. \n",
    "2. Opin myös, että datatieteeseen löytyy paljon erinäköisiä kirjastoja, kuten Pandas, Scikit-learn. Sen lisäksi Pythonilla pystyy tekemään melko monia mutkaisiakin temppuja datalle vain muutamilla rivillä koodia.\n",
    "3. Oivalsin mitä datatieteellä tarkoitetaan ja mitä se pitää sisällään. Eli kyseessä on todella monitahtoinen tieteenala.\n",
    "4. Lisäksi opin, että datan keräämiseen tarvitaan lupa, eikä sitä voi tehdä mielivaltaisesti edes julkisille sivuille.\n",
    "5. Viimeisenä oivalluksena koen, että ala kiinnostaa itseä paljon. Lisäksi uskon, että kurssi tuo mukanaan uusia näkemyksiä aiheesta paljon.\n",
    "\n",
    "**Kehitysideat**\n",
    "\n",
    "Olisin toivonut, että luennolla oltaisiin voitu esitellä esimerkiksi jokin käyttötapaus tai vastaava. \n",
    "\n",
    "**Koodidemo**\n"
   ]
  },
  {
   "cell_type": "code",
   "execution_count": 2,
   "metadata": {},
   "outputs": [
    {
     "name": "stdout",
     "output_type": "stream",
     "text": [
      "   sepal_length  sepal_width  petal_length  petal_width species\n",
      "0           5.1          3.5           1.4          0.2  setosa\n",
      "1           4.9          3.0           1.4          0.2  setosa\n",
      "2           4.7          3.2           1.3          0.2  setosa\n",
      "3           4.6          3.1           1.5          0.2  setosa\n",
      "4           5.0          3.6           1.4          0.2  setosa\n"
     ]
    },
    {
     "data": {
      "text/plain": [
       "<matplotlib.collections.PathCollection at 0x21300952fa0>"
      ]
     },
     "execution_count": 2,
     "metadata": {},
     "output_type": "execute_result"
    },
    {
     "data": {
      "image/png": "[encoded data removed]",
      "text/plain": [
       "<Figure size 432x288 with 1 Axes>"
      ]
     },
     "metadata": {
      "needs_background": "light"
     },
     "output_type": "display_data"
    }
   ],
   "source": [
    "iris = pd.read_csv('https://raw.githubusercontent.com/mwaskom/seaborn-data/master/iris.csv')\n",
    "print(iris.head())\n",
    "\n",
    "plt.scatter(x=iris[\"sepal_width\"], y=iris[\"sepal_length\"])"
   ]
  },
  {
   "cell_type": "markdown",
   "metadata": {},
   "source": [
    "### Luento 2\n",
    "\n",
    "En osallistunut luentoon 16.3.2022, koska olen eri paikkakunnalla. Katsoin luennon jälkikäteen Panoptosta. \n",
    "\n",
    "Toiselle luennolla käsiteltiin datatiedeprosessin eri vaiheita. Lisäksi tutustuttiin ryömijöihin, raapijoihin, datan keräämiseen ja jalostamiseen. Myös käytiin läpi, miten data-analytiikalla voidaan parantaa organisaatioiden suorituskykyä. Data-analytiikka voidaan jakaa neljään eri teemaan:\n",
    "\n",
    "* Kuvaileva analytiikka: What happened?\n",
    "* Diagnosoiva analytiikka: Why did it happen?\n",
    "* Ennakoiva analytiikka: What is likely to happen?\n",
    "* Ohjaava analytiikka: What should be done about it?\n",
    "\n",
    "Ryömijät ovat robotteja, jotka käyvät verkkosivuja systemaattisesti läpi. Ryömiän löytäessä uusi verkko-osoite, lisää se osoitteen jonoon läpikäytäväksi. Raapija puolestaan tutkii itse verkkosivua. Se pystyy tunnistamaan erinäisiä HTML tageja, jos se vain ohjelmoidaan niin. Ryömijöitä ja raapijoita voidaan käyttää erikseen kuin myös yhdessä.  \n",
    "\n",
    "Philip Guo on laatinut tyypillisen datatiedeprosessin työkaavion, joka näkyy alla olevassa kuvassa. Se koostuu neljästä eri päävaiheesta: tiedon esikäsittely, vuoropuhelu analyysin ja tulosten reflektion välillä ja tulosten vieminen. \n",
    "\n",
    "![Data Science Workflow](https://cacm.acm.org/system/assets/0001/3678/rp-overview.jpg)\n",
    "\n",
    "Tiedon esikäsitteleminen on prosessin työläinen vaihe, joka on yleensä noin 80% koko prosessista. Koko vaihe siis alkaa datan keruulla, mitä voidaan tehdä esimerkiksi ryömiöiden ja raapioiden avulla. Myös dataa voidaan ladata julkisista lähteistä tai syöttää manuaalisesti itse Exceliin. Kuitenkin datan keruulle on useita eri tapoja. Datan keruu ei kumminkaan ole helppoa vaan ongelmatilanteita synnyttävät muun muassa datan ajankohtaisuus ja lähteen selvittäminen. \n",
    "\n",
    "Analyysivaiheessa kirjoitetaan, suoritetaan ja ohjelmoidaan ohjelmia hyödyntämään dataa. Ylläolevassa kuvassa analyysivaihe toimii iteratiivisesti eli jokaisella kerralla pyritään parempaan: muokataan skriptiä, suoritetaan skripti, tutkitaan tulosta ja debugataan tarvittaessa. Tämä tarvittaessa toistuu useita kertoja, kunnes ollaan data saatu haluttuun muotoon.\n",
    "\n",
    "Reflektiovaiheessa tukitaan analyysin tulosta. Tässä vaiheessa voidaan tarvittaessa ottaa muistiinpanoja, pitää palavereja ja vertailla ja tutkia muita vaihtoehtoja. Jos todetaan, että toinen vaihtoehto olisi parempi, aloitetaan analyysi vaihe uudestaan. Jos taas todetaan, että analyysin tulos on haluttu, voidaan siirtyä viimeiseen vaiheeseen.\n",
    "\n",
    "Viimeisessä vaiheessa eli tulosten viemisessä, voidaan julkistaa tulokset, kirjoittaa raportti, jakaa tutkimus tai tallentaa vaikka organisaation omaan käyttöön. Tässä vaiheessa siis analyysin tulos on valmis ja sitä voidaan käyttää mihin vain.\n",
    "\n",
    "**Oivallukset**\n",
    "\n",
    "1. Useat organisaatiot eivät nykypäivänä käytä data-analytiikkaa hyödykseen liiketoiminnassa.\n",
    "2. Tiedon esikäsitteleminen on vie eniten aikaa (datan keruu, jalostaminen ja siivous).\n",
    "3. Ryömiöiden ja raapioiden käyttäminen ei ole hirvittävän hankalaa ja siihen löytyy paljon erinäköisiä kirjastoja tueksi.\n",
    "4. Datan siivoaminen on yksi tärkeimmistä vaiheista, koska muutoin tuloksena saattaa olla virheellinen analyysi.\n",
    "5. Pandas toimii loistavasti datan jalostamiseen.\n",
    "\n",
    "**Kehitysideat**\n",
    "\n",
    "Luento materiaalissa käytiin lähinnä läpi CSV -tiedostojen lukemista ja niiden analysointia, mutta esimerkiksi ryömiöiden ja raapioiden esimerkit uupuivat.\n",
    "\n",
    "**Koodidemo**"
   ]
  }
 ],
 "metadata": {
  "interpreter": {
   "hash": "3a7c471345255d9b1723032e4ebc4391fd68c2296357799991468d18458d77a4"
  },
  "kernelspec": {
   "display_name": "Python 3.10.2 ('ai')",
   "language": "python",
   "name": "python3"
  },
  "language_info": {
   "codemirror_mode": {
    "name": "ipython",
    "version": 3
   },
   "file_extension": ".py",
   "mimetype": "text/x-python",
   "name": "python",
   "nbconvert_exporter": "python",
   "pygments_lexer": "ipython3",
   "version": "3.9.7"
  },
  "orig_nbformat": 4
 },
 "nbformat": 4,
 "nbformat_minor": 2
}
