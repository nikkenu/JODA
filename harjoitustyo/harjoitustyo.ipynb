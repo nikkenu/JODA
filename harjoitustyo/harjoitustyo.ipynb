{
 "cells": [
  {
   "cell_type": "code",
   "execution_count": 57,
   "metadata": {},
   "outputs": [
    {
     "name": "stdout",
     "output_type": "stream",
     "text": [
      "Amount:  54\n"
     ]
    }
   ],
   "source": [
    "import tweepy\n",
    "import pandas as pd\n",
    "\n",
    "# Add your Bearer token here.\n",
    "client = tweepy.Client(bearer_token='AAAAAAAAAAAAAAAAAAAAAAXMbQEAAAAABe%2FX6GdX2LjKMFow40dTxReihH8%3DyYpM33fzKSRSEjxsaMtYthsQ3WtZP2AIJaoqP4aBwCKrtNwGvD')\n",
    "\n",
    "# Create Pandas dataframe with three columns\n",
    "df = pd.DataFrame(columns=['text', 'created_at', 'language'])\n",
    "\n",
    "# Query tweets with #news. Show only 100 tweets\n",
    "query = '#news'\n",
    "tweets = client.search_recent_tweets(query=query, tweet_fields=['created_at', 'lang'], max_results=100)\n",
    "\n",
    "for tweet in tweets.data:\n",
    "    text = tweet.text\n",
    "    created_at = tweet.created_at\n",
    "    language = tweet.lang\n",
    "\n",
    "    # Focus only to tweets in english\n",
    "    if language == 'en':\n",
    "        tmp = [text, created_at, language]\n",
    "        df.loc[len(df)] = tmp\n",
    "\n",
    "# Total amount of tweets in dataframe\n",
    "print('Amount: ', len(df))\n",
    "\n",
    "# Show first 5 lines of dataframe\n",
    "df.head()\n",
    "\n",
    "\n",
    "\n"
   ]
  }
 ],
 "metadata": {
  "interpreter": {
   "hash": "b3ba2566441a7c06988d0923437866b63cedc61552a5af99d1f4fb67d367b25f"
  },
  "kernelspec": {
   "display_name": "Python 3.9.7 ('base')",
   "language": "python",
   "name": "python3"
  },
  "language_info": {
   "codemirror_mode": {
    "name": "ipython",
    "version": 3
   },
   "file_extension": ".py",
   "mimetype": "text/x-python",
   "name": "python",
   "nbconvert_exporter": "python",
   "pygments_lexer": "ipython3",
   "version": "3.9.7"
  },
  "orig_nbformat": 4
 },
 "nbformat": 4,
 "nbformat_minor": 2
}
